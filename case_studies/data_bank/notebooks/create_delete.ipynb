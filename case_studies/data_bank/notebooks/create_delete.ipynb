{
 "cells": [
  {
   "cell_type": "code",
   "execution_count": 2,
   "metadata": {},
   "outputs": [],
   "source": [
    "from IPython.core.interactiveshell import InteractiveShell\n",
    "\n",
    "InteractiveShell.ast_node_interactivity = \"all\"\n",
    "\n",
    "import sys\n",
    "import os\n",
    "\n",
    "sys.path.append(\"../../../\")\n",
    "from src.athena import Athena\n",
    "from src.utils import create_session"
   ]
  },
  {
   "cell_type": "markdown",
   "metadata": {},
   "source": [
    "## Global"
   ]
  },
  {
   "cell_type": "code",
   "execution_count": 3,
   "metadata": {},
   "outputs": [
    {
     "data": {
      "text/plain": [
       "Athena(boto3_session=Session(region_name='us-east-1'), s3_output=s3://sql-case-studies/query_results)"
      ]
     },
     "execution_count": 3,
     "metadata": {},
     "output_type": "execute_result"
    }
   ],
   "source": [
    "boto3_session = create_session(\n",
    "    profile_name=\"dev\",\n",
    "    role_arn=\"arn:aws:iam::722696965592:role/athena-full-access-role\",\n",
    ")\n",
    "\n",
    "wait = True\n",
    "ctas_approach = False\n",
    "\n",
    "database = \"data_bank\"\n",
    "tables = [\"regions\", \"customer_nodes\", \"customer_transactions\"]\n",
    "sql_path = \"../sql/\"\n",
    "\n",
    "athena = Athena(boto3_session=boto3_session, s3_output=os.getenv(\"ATHENA_S3_OUTPUT\"))\n",
    "athena"
   ]
  },
  {
   "cell_type": "markdown",
   "metadata": {},
   "source": [
    "## Create Database & Table"
   ]
  },
  {
   "cell_type": "code",
   "execution_count": 5,
   "metadata": {},
   "outputs": [
    {
     "name": "stdout",
     "output_type": "stream",
     "text": [
      "Query executed successfully\n"
     ]
    }
   ],
   "source": [
    "response = athena.create_database(database=database, wait=wait)\n",
    "\n",
    "response"
   ]
  },
  {
   "cell_type": "code",
   "execution_count": 6,
   "metadata": {},
   "outputs": [
    {
     "name": "stdout",
     "output_type": "stream",
     "text": [
      "CREATE EXTERNAL TABLE IF NOT EXISTS data_bank.regions (\n",
      "  region_id INT,\n",
      "  region_name VARCHAR(9)\n",
      ")\n",
      "COMMENT 'Regions table'\n",
      "STORED AS PARQUET\n",
      "LOCATION 's3://sql-case-studies/data_bank/regions/'\n",
      "TBLPROPERTIES ('classification'='parquet', 'parquet.compress'='SNAPPY');\n",
      "\n",
      "--------------------------------------------------\n",
      "\n",
      "\n",
      "CREATE EXTERNAL TABLE IF NOT EXISTS data_bank.customer_nodes (\n",
      "  customer_id INT,\n",
      "  region_id INT,\n",
      "  node_id INT,\n",
      "  start_date TIMESTAMP,\n",
      "  end_date TIMESTAMP\n",
      ")\n",
      "COMMENT 'Customer nodes table'\n",
      "STORED AS PARQUET\n",
      "LOCATION 's3://sql-case-studies/data_bank/customer_nodes/'\n",
      "TBLPROPERTIES ('classification'='parquet', 'parquet.compress'='SNAPPY');\n",
      "\n",
      "--------------------------------------------------\n",
      "\n",
      "\n",
      "CREATE EXTERNAL TABLE IF NOT EXISTS data_bank.customer_transactions (\n",
      "  customer_id INT,\n",
      "  txn_date TIMESTAMP,\n",
      "  txn_type VARCHAR(10),\n",
      "  txn_amount DOUBLE\n",
      ")\n",
      "COMMENT 'Customer transactions table'\n",
      "STORED AS PARQUET\n",
      "LOCATION 's3://sql-case-studies/data_bank/customer_transactions/'\n",
      "TBLPROPERTIES ('classification'='parquet', 'parquet.compress'='SNAPPY');\n",
      "\n",
      "--------------------------------------------------\n",
      "\n",
      "\n"
     ]
    }
   ],
   "source": [
    "ddls = {}\n",
    "for table in tables:\n",
    "    with open(os.path.join(sql_path, f\"{table}_ddl.sql\"), \"r\") as f:\n",
    "        ddls[table] = f.read()\n",
    "\n",
    "    print(ddls[table])\n",
    "    print(\"-\" * 50)\n",
    "    print(\"\\n\")"
   ]
  },
  {
   "cell_type": "code",
   "execution_count": 7,
   "metadata": {},
   "outputs": [
    {
     "name": "stdout",
     "output_type": "stream",
     "text": [
      "Query executed successfully\n",
      "Query executed successfully\n",
      "Query executed successfully\n"
     ]
    }
   ],
   "source": [
    "for ddl in ddls.values():\n",
    "    response = athena.create_table(database=database, query=ddl, wait=wait)\n",
    "    response"
   ]
  },
  {
   "cell_type": "code",
   "execution_count": 8,
   "metadata": {},
   "outputs": [
    {
     "data": {
      "text/html": [
       "<div>\n",
       "<style scoped>\n",
       "    .dataframe tbody tr th:only-of-type {\n",
       "        vertical-align: middle;\n",
       "    }\n",
       "\n",
       "    .dataframe tbody tr th {\n",
       "        vertical-align: top;\n",
       "    }\n",
       "\n",
       "    .dataframe thead th {\n",
       "        text-align: right;\n",
       "    }\n",
       "</style>\n",
       "<table border=\"1\" class=\"dataframe\">\n",
       "  <thead>\n",
       "    <tr style=\"text-align: right;\">\n",
       "      <th></th>\n",
       "      <th>region_id</th>\n",
       "      <th>region_name</th>\n",
       "    </tr>\n",
       "  </thead>\n",
       "  <tbody>\n",
       "    <tr>\n",
       "      <th>0</th>\n",
       "      <td>1</td>\n",
       "      <td>Australia</td>\n",
       "    </tr>\n",
       "    <tr>\n",
       "      <th>1</th>\n",
       "      <td>2</td>\n",
       "      <td>America</td>\n",
       "    </tr>\n",
       "    <tr>\n",
       "      <th>2</th>\n",
       "      <td>3</td>\n",
       "      <td>Africa</td>\n",
       "    </tr>\n",
       "    <tr>\n",
       "      <th>3</th>\n",
       "      <td>4</td>\n",
       "      <td>Asia</td>\n",
       "    </tr>\n",
       "    <tr>\n",
       "      <th>4</th>\n",
       "      <td>5</td>\n",
       "      <td>Europe</td>\n",
       "    </tr>\n",
       "  </tbody>\n",
       "</table>\n",
       "</div>"
      ],
      "text/plain": [
       "   region_id region_name\n",
       "0          1   Australia\n",
       "1          2     America\n",
       "2          3      Africa\n",
       "3          4        Asia\n",
       "4          5      Europe"
      ]
     },
     "execution_count": 8,
     "metadata": {},
     "output_type": "execute_result"
    },
    {
     "data": {
      "text/html": [
       "<div>\n",
       "<style scoped>\n",
       "    .dataframe tbody tr th:only-of-type {\n",
       "        vertical-align: middle;\n",
       "    }\n",
       "\n",
       "    .dataframe tbody tr th {\n",
       "        vertical-align: top;\n",
       "    }\n",
       "\n",
       "    .dataframe thead th {\n",
       "        text-align: right;\n",
       "    }\n",
       "</style>\n",
       "<table border=\"1\" class=\"dataframe\">\n",
       "  <thead>\n",
       "    <tr style=\"text-align: right;\">\n",
       "      <th></th>\n",
       "      <th>customer_id</th>\n",
       "      <th>region_id</th>\n",
       "      <th>node_id</th>\n",
       "      <th>start_date</th>\n",
       "      <th>end_date</th>\n",
       "    </tr>\n",
       "  </thead>\n",
       "  <tbody>\n",
       "    <tr>\n",
       "      <th>0</th>\n",
       "      <td>1</td>\n",
       "      <td>3</td>\n",
       "      <td>4</td>\n",
       "      <td>2020-01-02</td>\n",
       "      <td>2020-01-03</td>\n",
       "    </tr>\n",
       "    <tr>\n",
       "      <th>1</th>\n",
       "      <td>2</td>\n",
       "      <td>3</td>\n",
       "      <td>5</td>\n",
       "      <td>2020-01-03</td>\n",
       "      <td>2020-01-17</td>\n",
       "    </tr>\n",
       "    <tr>\n",
       "      <th>2</th>\n",
       "      <td>3</td>\n",
       "      <td>5</td>\n",
       "      <td>4</td>\n",
       "      <td>2020-01-27</td>\n",
       "      <td>2020-02-18</td>\n",
       "    </tr>\n",
       "    <tr>\n",
       "      <th>3</th>\n",
       "      <td>4</td>\n",
       "      <td>5</td>\n",
       "      <td>4</td>\n",
       "      <td>2020-01-07</td>\n",
       "      <td>2020-01-19</td>\n",
       "    </tr>\n",
       "    <tr>\n",
       "      <th>4</th>\n",
       "      <td>5</td>\n",
       "      <td>3</td>\n",
       "      <td>3</td>\n",
       "      <td>2020-01-15</td>\n",
       "      <td>2020-01-23</td>\n",
       "    </tr>\n",
       "    <tr>\n",
       "      <th>5</th>\n",
       "      <td>6</td>\n",
       "      <td>1</td>\n",
       "      <td>1</td>\n",
       "      <td>2020-01-11</td>\n",
       "      <td>2020-02-06</td>\n",
       "    </tr>\n",
       "    <tr>\n",
       "      <th>6</th>\n",
       "      <td>7</td>\n",
       "      <td>2</td>\n",
       "      <td>5</td>\n",
       "      <td>2020-01-20</td>\n",
       "      <td>2020-02-04</td>\n",
       "    </tr>\n",
       "    <tr>\n",
       "      <th>7</th>\n",
       "      <td>8</td>\n",
       "      <td>1</td>\n",
       "      <td>2</td>\n",
       "      <td>2020-01-15</td>\n",
       "      <td>2020-01-28</td>\n",
       "    </tr>\n",
       "    <tr>\n",
       "      <th>8</th>\n",
       "      <td>9</td>\n",
       "      <td>4</td>\n",
       "      <td>5</td>\n",
       "      <td>2020-01-21</td>\n",
       "      <td>2020-01-25</td>\n",
       "    </tr>\n",
       "    <tr>\n",
       "      <th>9</th>\n",
       "      <td>10</td>\n",
       "      <td>3</td>\n",
       "      <td>4</td>\n",
       "      <td>2020-01-13</td>\n",
       "      <td>2020-01-14</td>\n",
       "    </tr>\n",
       "  </tbody>\n",
       "</table>\n",
       "</div>"
      ],
      "text/plain": [
       "   customer_id  region_id  node_id start_date   end_date\n",
       "0            1          3        4 2020-01-02 2020-01-03\n",
       "1            2          3        5 2020-01-03 2020-01-17\n",
       "2            3          5        4 2020-01-27 2020-02-18\n",
       "3            4          5        4 2020-01-07 2020-01-19\n",
       "4            5          3        3 2020-01-15 2020-01-23\n",
       "5            6          1        1 2020-01-11 2020-02-06\n",
       "6            7          2        5 2020-01-20 2020-02-04\n",
       "7            8          1        2 2020-01-15 2020-01-28\n",
       "8            9          4        5 2020-01-21 2020-01-25\n",
       "9           10          3        4 2020-01-13 2020-01-14"
      ]
     },
     "execution_count": 8,
     "metadata": {},
     "output_type": "execute_result"
    },
    {
     "data": {
      "text/html": [
       "<div>\n",
       "<style scoped>\n",
       "    .dataframe tbody tr th:only-of-type {\n",
       "        vertical-align: middle;\n",
       "    }\n",
       "\n",
       "    .dataframe tbody tr th {\n",
       "        vertical-align: top;\n",
       "    }\n",
       "\n",
       "    .dataframe thead th {\n",
       "        text-align: right;\n",
       "    }\n",
       "</style>\n",
       "<table border=\"1\" class=\"dataframe\">\n",
       "  <thead>\n",
       "    <tr style=\"text-align: right;\">\n",
       "      <th></th>\n",
       "      <th>customer_id</th>\n",
       "      <th>txn_date</th>\n",
       "      <th>txn_type</th>\n",
       "      <th>txn_amount</th>\n",
       "    </tr>\n",
       "  </thead>\n",
       "  <tbody>\n",
       "    <tr>\n",
       "      <th>0</th>\n",
       "      <td>1</td>\n",
       "      <td>2020-01-02</td>\n",
       "      <td>deposit</td>\n",
       "      <td>312.0</td>\n",
       "    </tr>\n",
       "    <tr>\n",
       "      <th>1</th>\n",
       "      <td>1</td>\n",
       "      <td>2020-03-19</td>\n",
       "      <td>purchase</td>\n",
       "      <td>664.0</td>\n",
       "    </tr>\n",
       "    <tr>\n",
       "      <th>2</th>\n",
       "      <td>1</td>\n",
       "      <td>2020-03-17</td>\n",
       "      <td>deposit</td>\n",
       "      <td>324.0</td>\n",
       "    </tr>\n",
       "    <tr>\n",
       "      <th>3</th>\n",
       "      <td>1</td>\n",
       "      <td>2020-03-05</td>\n",
       "      <td>purchase</td>\n",
       "      <td>612.0</td>\n",
       "    </tr>\n",
       "    <tr>\n",
       "      <th>4</th>\n",
       "      <td>2</td>\n",
       "      <td>2020-03-24</td>\n",
       "      <td>deposit</td>\n",
       "      <td>61.0</td>\n",
       "    </tr>\n",
       "    <tr>\n",
       "      <th>5</th>\n",
       "      <td>2</td>\n",
       "      <td>2020-01-03</td>\n",
       "      <td>deposit</td>\n",
       "      <td>549.0</td>\n",
       "    </tr>\n",
       "    <tr>\n",
       "      <th>6</th>\n",
       "      <td>3</td>\n",
       "      <td>2020-03-05</td>\n",
       "      <td>withdrawal</td>\n",
       "      <td>213.0</td>\n",
       "    </tr>\n",
       "    <tr>\n",
       "      <th>7</th>\n",
       "      <td>3</td>\n",
       "      <td>2020-02-22</td>\n",
       "      <td>purchase</td>\n",
       "      <td>965.0</td>\n",
       "    </tr>\n",
       "    <tr>\n",
       "      <th>8</th>\n",
       "      <td>3</td>\n",
       "      <td>2020-04-12</td>\n",
       "      <td>deposit</td>\n",
       "      <td>493.0</td>\n",
       "    </tr>\n",
       "    <tr>\n",
       "      <th>9</th>\n",
       "      <td>3</td>\n",
       "      <td>2020-03-19</td>\n",
       "      <td>withdrawal</td>\n",
       "      <td>188.0</td>\n",
       "    </tr>\n",
       "  </tbody>\n",
       "</table>\n",
       "</div>"
      ],
      "text/plain": [
       "   customer_id   txn_date    txn_type  txn_amount\n",
       "0            1 2020-01-02     deposit       312.0\n",
       "1            1 2020-03-19    purchase       664.0\n",
       "2            1 2020-03-17     deposit       324.0\n",
       "3            1 2020-03-05    purchase       612.0\n",
       "4            2 2020-03-24     deposit        61.0\n",
       "5            2 2020-01-03     deposit       549.0\n",
       "6            3 2020-03-05  withdrawal       213.0\n",
       "7            3 2020-02-22    purchase       965.0\n",
       "8            3 2020-04-12     deposit       493.0\n",
       "9            3 2020-03-19  withdrawal       188.0"
      ]
     },
     "execution_count": 8,
     "metadata": {},
     "output_type": "execute_result"
    }
   ],
   "source": [
    "for table in tables:\n",
    "    athena.query(\n",
    "        database=database,\n",
    "        query=f\"\"\" \n",
    "                SELECT\n",
    "                    *\n",
    "                FROM\n",
    "                    {database}.{table} \n",
    "                LIMIT 10;\n",
    "              \"\"\",\n",
    "        ctas_approach=ctas_approach,\n",
    "    )"
   ]
  },
  {
   "cell_type": "markdown",
   "metadata": {},
   "source": [
    "## Drop Database & Table"
   ]
  },
  {
   "cell_type": "code",
   "execution_count": 9,
   "metadata": {},
   "outputs": [
    {
     "name": "stdout",
     "output_type": "stream",
     "text": [
      "Query executed successfully\n",
      "Query executed successfully\n",
      "Query executed successfully\n"
     ]
    }
   ],
   "source": [
    "for table in tables:\n",
    "    athena.drop_table(database=database, table=table, wait=wait)"
   ]
  },
  {
   "cell_type": "code",
   "execution_count": 10,
   "metadata": {},
   "outputs": [
    {
     "name": "stdout",
     "output_type": "stream",
     "text": [
      "Query executed successfully\n"
     ]
    }
   ],
   "source": [
    "athena.drop_database(database=database, wait=wait)"
   ]
  }
 ],
 "metadata": {
  "kernelspec": {
   "display_name": "sql_challenges",
   "language": "python",
   "name": "python3"
  },
  "language_info": {
   "codemirror_mode": {
    "name": "ipython",
    "version": 3
   },
   "file_extension": ".py",
   "mimetype": "text/x-python",
   "name": "python",
   "nbconvert_exporter": "python",
   "pygments_lexer": "ipython3",
   "version": "3.11.9"
  }
 },
 "nbformat": 4,
 "nbformat_minor": 2
}
