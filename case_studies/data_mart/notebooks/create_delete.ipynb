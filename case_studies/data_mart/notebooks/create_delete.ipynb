{
 "cells": [
  {
   "cell_type": "code",
   "execution_count": 1,
   "metadata": {},
   "outputs": [],
   "source": [
    "from IPython.core.interactiveshell import InteractiveShell\n",
    "\n",
    "InteractiveShell.ast_node_interactivity = \"all\"\n",
    "\n",
    "import os\n",
    "import sys\n",
    "\n",
    "sys.path.append(\"../../../\")\n",
    "from src.athena import Athena\n",
    "from src.utils import create_session"
   ]
  },
  {
   "cell_type": "markdown",
   "metadata": {},
   "source": [
    "## Global"
   ]
  },
  {
   "cell_type": "code",
   "execution_count": 2,
   "metadata": {},
   "outputs": [
    {
     "data": {
      "text/plain": [
       "Athena(boto3_session=Session(region_name='us-east-1'), s3_output=s3://sql-case-studies/query_results)"
      ]
     },
     "execution_count": 2,
     "metadata": {},
     "output_type": "execute_result"
    }
   ],
   "source": [
    "boto3_session = create_session(\n",
    "    profile_name=\"dev\",\n",
    "    role_arn=os.getenv(\"ATHENA_IAM_ROLE_ARN\"),\n",
    ")\n",
    "\n",
    "wait = True\n",
    "ctas_approach = False\n",
    "\n",
    "database = \"data_mart\"\n",
    "tables = [\"weekly_sales\"]\n",
    "sql_path = \"../sql/\"\n",
    "\n",
    "athena = Athena(boto3_session=boto3_session, s3_output=os.getenv(\"ATHENA_S3_OUTPUT\"))\n",
    "athena"
   ]
  },
  {
   "cell_type": "markdown",
   "metadata": {},
   "source": [
    "## Create Database & Table"
   ]
  },
  {
   "cell_type": "code",
   "execution_count": 4,
   "metadata": {},
   "outputs": [
    {
     "name": "stdout",
     "output_type": "stream",
     "text": [
      "Query executed successfully\n"
     ]
    }
   ],
   "source": [
    "response = athena.create_database(database=database, wait=wait)\n",
    "\n",
    "response"
   ]
  },
  {
   "cell_type": "code",
   "execution_count": 5,
   "metadata": {},
   "outputs": [
    {
     "name": "stdout",
     "output_type": "stream",
     "text": [
      "CREATE EXTERNAL TABLE IF NOT EXISTS data_mart.weekly_sales (\n",
      "    week_date TIMESTAMP COMMENT 'The starting date of the sales week for each record',\n",
      "    region VARCHAR(20) COMMENT \"Represents the geographical area of operations within Data Mart's multi-region strategy\",\n",
      "    platform VARCHAR(10) COMMENT 'Indicates whether sales occurred through the retail channel or the online Shopify storefront',\n",
      "    segment VARCHAR(10) COMMENT 'Categorizes customers based on demographic and age-related groupings',\n",
      "    customer_type VARCHAR(10) COMMENT 'Provides additional demographic details, such as lifestyle or purchasing behavior',\n",
      "    transactions INT COMMENT 'The count of unique purchases made during the corresponding sales week',\n",
      "    sales DOUBLE COMMENT 'The total dollar amount of purchases made in the corresponding sales week'\n",
      ") \n",
      "COMMENT 'Sales data containing weekly transaction and sales information by region, platform, segment, and customer type' \n",
      "STORED AS PARQUET LOCATION 's3://sql-case-studies/data_mart/weekly_sales/' TBLPROPERTIES (\n",
      "    'classification' = 'parquet',\n",
      "    'parquet.compress' = 'SNAPPY'\n",
      ");\n",
      "\n",
      "--------------------------------------------------\n",
      "\n",
      "\n"
     ]
    }
   ],
   "source": [
    "ddls = {}\n",
    "for table in tables:\n",
    "    with open(os.path.join(sql_path, f\"{table}_ddl.sql\"), \"r\") as f:\n",
    "        ddls[table] = f.read()\n",
    "\n",
    "    print(ddls[table])\n",
    "    print(\"-\" * 50)\n",
    "    print(\"\\n\")"
   ]
  },
  {
   "cell_type": "code",
   "execution_count": 6,
   "metadata": {},
   "outputs": [
    {
     "name": "stdout",
     "output_type": "stream",
     "text": [
      "Query executed successfully\n"
     ]
    }
   ],
   "source": [
    "for ddl in ddls.values():\n",
    "    response = athena.create_table(database=database, query=ddl, wait=wait)\n",
    "    response"
   ]
  },
  {
   "cell_type": "code",
   "execution_count": 7,
   "metadata": {},
   "outputs": [
    {
     "data": {
      "text/html": [
       "<div>\n",
       "<style scoped>\n",
       "    .dataframe tbody tr th:only-of-type {\n",
       "        vertical-align: middle;\n",
       "    }\n",
       "\n",
       "    .dataframe tbody tr th {\n",
       "        vertical-align: top;\n",
       "    }\n",
       "\n",
       "    .dataframe thead th {\n",
       "        text-align: right;\n",
       "    }\n",
       "</style>\n",
       "<table border=\"1\" class=\"dataframe\">\n",
       "  <thead>\n",
       "    <tr style=\"text-align: right;\">\n",
       "      <th></th>\n",
       "      <th>week_date</th>\n",
       "      <th>region</th>\n",
       "      <th>platform</th>\n",
       "      <th>segment</th>\n",
       "      <th>customer_type</th>\n",
       "      <th>transactions</th>\n",
       "      <th>sales</th>\n",
       "    </tr>\n",
       "  </thead>\n",
       "  <tbody>\n",
       "    <tr>\n",
       "      <th>0</th>\n",
       "      <td>2020-08-31</td>\n",
       "      <td>ASIA</td>\n",
       "      <td>Retail</td>\n",
       "      <td>C3</td>\n",
       "      <td>New</td>\n",
       "      <td>120631</td>\n",
       "      <td>3656163.0</td>\n",
       "    </tr>\n",
       "    <tr>\n",
       "      <th>1</th>\n",
       "      <td>2020-08-31</td>\n",
       "      <td>ASIA</td>\n",
       "      <td>Retail</td>\n",
       "      <td>F1</td>\n",
       "      <td>New</td>\n",
       "      <td>31574</td>\n",
       "      <td>996575.0</td>\n",
       "    </tr>\n",
       "    <tr>\n",
       "      <th>2</th>\n",
       "      <td>2020-08-31</td>\n",
       "      <td>USA</td>\n",
       "      <td>Retail</td>\n",
       "      <td>&lt;NA&gt;</td>\n",
       "      <td>Guest</td>\n",
       "      <td>529151</td>\n",
       "      <td>16509610.0</td>\n",
       "    </tr>\n",
       "    <tr>\n",
       "      <th>3</th>\n",
       "      <td>2020-08-31</td>\n",
       "      <td>EUROPE</td>\n",
       "      <td>Retail</td>\n",
       "      <td>C1</td>\n",
       "      <td>New</td>\n",
       "      <td>4517</td>\n",
       "      <td>141942.0</td>\n",
       "    </tr>\n",
       "    <tr>\n",
       "      <th>4</th>\n",
       "      <td>2020-08-31</td>\n",
       "      <td>AFRICA</td>\n",
       "      <td>Retail</td>\n",
       "      <td>C2</td>\n",
       "      <td>New</td>\n",
       "      <td>58046</td>\n",
       "      <td>1758388.0</td>\n",
       "    </tr>\n",
       "    <tr>\n",
       "      <th>5</th>\n",
       "      <td>2020-08-31</td>\n",
       "      <td>CANADA</td>\n",
       "      <td>Shopify</td>\n",
       "      <td>F2</td>\n",
       "      <td>Existing</td>\n",
       "      <td>1336</td>\n",
       "      <td>243878.0</td>\n",
       "    </tr>\n",
       "    <tr>\n",
       "      <th>6</th>\n",
       "      <td>2020-08-31</td>\n",
       "      <td>AFRICA</td>\n",
       "      <td>Shopify</td>\n",
       "      <td>F3</td>\n",
       "      <td>Existing</td>\n",
       "      <td>2514</td>\n",
       "      <td>519502.0</td>\n",
       "    </tr>\n",
       "    <tr>\n",
       "      <th>7</th>\n",
       "      <td>2020-08-31</td>\n",
       "      <td>ASIA</td>\n",
       "      <td>Shopify</td>\n",
       "      <td>F1</td>\n",
       "      <td>Existing</td>\n",
       "      <td>2158</td>\n",
       "      <td>371417.0</td>\n",
       "    </tr>\n",
       "    <tr>\n",
       "      <th>8</th>\n",
       "      <td>2020-08-31</td>\n",
       "      <td>AFRICA</td>\n",
       "      <td>Shopify</td>\n",
       "      <td>F2</td>\n",
       "      <td>New</td>\n",
       "      <td>318</td>\n",
       "      <td>49557.0</td>\n",
       "    </tr>\n",
       "    <tr>\n",
       "      <th>9</th>\n",
       "      <td>2020-08-31</td>\n",
       "      <td>AFRICA</td>\n",
       "      <td>Retail</td>\n",
       "      <td>C3</td>\n",
       "      <td>New</td>\n",
       "      <td>111032</td>\n",
       "      <td>3888162.0</td>\n",
       "    </tr>\n",
       "  </tbody>\n",
       "</table>\n",
       "</div>"
      ],
      "text/plain": [
       "   week_date  region platform segment customer_type  transactions       sales\n",
       "0 2020-08-31    ASIA   Retail      C3           New        120631   3656163.0\n",
       "1 2020-08-31    ASIA   Retail      F1           New         31574    996575.0\n",
       "2 2020-08-31     USA   Retail    <NA>         Guest        529151  16509610.0\n",
       "3 2020-08-31  EUROPE   Retail      C1           New          4517    141942.0\n",
       "4 2020-08-31  AFRICA   Retail      C2           New         58046   1758388.0\n",
       "5 2020-08-31  CANADA  Shopify      F2      Existing          1336    243878.0\n",
       "6 2020-08-31  AFRICA  Shopify      F3      Existing          2514    519502.0\n",
       "7 2020-08-31    ASIA  Shopify      F1      Existing          2158    371417.0\n",
       "8 2020-08-31  AFRICA  Shopify      F2           New           318     49557.0\n",
       "9 2020-08-31  AFRICA   Retail      C3           New        111032   3888162.0"
      ]
     },
     "execution_count": 7,
     "metadata": {},
     "output_type": "execute_result"
    }
   ],
   "source": [
    "for table in tables:\n",
    "    athena.query(\n",
    "        database=database,\n",
    "        query=f\"\"\" \n",
    "                SELECT\n",
    "                    *\n",
    "                FROM\n",
    "                    {database}.{table} \n",
    "                LIMIT 10;\n",
    "              \"\"\",\n",
    "        ctas_approach=ctas_approach,\n",
    "    )"
   ]
  },
  {
   "cell_type": "markdown",
   "metadata": {},
   "source": [
    "## Drop Database & Table"
   ]
  },
  {
   "cell_type": "code",
   "execution_count": 3,
   "metadata": {},
   "outputs": [
    {
     "name": "stdout",
     "output_type": "stream",
     "text": [
      "Query executed successfully\n"
     ]
    }
   ],
   "source": [
    "for table in tables:\n",
    "    athena.drop_table(database=database, table=table, wait=wait)"
   ]
  },
  {
   "cell_type": "code",
   "execution_count": 4,
   "metadata": {},
   "outputs": [
    {
     "name": "stdout",
     "output_type": "stream",
     "text": [
      "Query executed successfully\n"
     ]
    }
   ],
   "source": [
    "athena.drop_database(database=database, wait=wait)"
   ]
  }
 ],
 "metadata": {
  "kernelspec": {
   "display_name": ".venv",
   "language": "python",
   "name": "python3"
  },
  "language_info": {
   "codemirror_mode": {
    "name": "ipython",
    "version": 3
   },
   "file_extension": ".py",
   "mimetype": "text/x-python",
   "name": "python",
   "nbconvert_exporter": "python",
   "pygments_lexer": "ipython3",
   "version": "3.12.6"
  }
 },
 "nbformat": 4,
 "nbformat_minor": 2
}
