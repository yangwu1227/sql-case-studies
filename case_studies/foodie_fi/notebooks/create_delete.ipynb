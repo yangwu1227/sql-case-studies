{
 "cells": [
  {
   "cell_type": "code",
   "execution_count": 1,
   "metadata": {},
   "outputs": [],
   "source": [
    "from IPython.core.interactiveshell import InteractiveShell\n",
    "\n",
    "InteractiveShell.ast_node_interactivity = \"all\"\n",
    "\n",
    "import os\n",
    "import sys\n",
    "\n",
    "sys.path.append(\"../../../\")\n",
    "from src.athena import Athena\n",
    "from src.utils import create_session"
   ]
  },
  {
   "cell_type": "markdown",
   "metadata": {},
   "source": [
    "## Global"
   ]
  },
  {
   "cell_type": "code",
   "execution_count": 2,
   "metadata": {},
   "outputs": [
    {
     "data": {
      "text/plain": [
       "Athena(boto3_session=Session(region_name='us-east-1'), s3_output=s3://sql-case-studies/query_results)"
      ]
     },
     "execution_count": 2,
     "metadata": {},
     "output_type": "execute_result"
    }
   ],
   "source": [
    "boto3_session = create_session(\n",
    "    profile_name=\"dev\",\n",
    "    role_arn=os.getenv(\"ATHENA_IAM_ROLE_ARN\"),\n",
    ")\n",
    "\n",
    "wait = True\n",
    "ctas_approach = False\n",
    "\n",
    "database = \"foodie_fi\"\n",
    "tables = [\"plans\", \"subscriptions\"]\n",
    "sql_path = \"../sql/\"\n",
    "\n",
    "athena = Athena(boto3_session=boto3_session, s3_output=os.getenv(\"ATHENA_S3_OUTPUT\"))\n",
    "athena"
   ]
  },
  {
   "cell_type": "markdown",
   "metadata": {},
   "source": [
    "## Create Database & Table"
   ]
  },
  {
   "cell_type": "code",
   "execution_count": 35,
   "metadata": {},
   "outputs": [
    {
     "name": "stdout",
     "output_type": "stream",
     "text": [
      "Query executed successfully\n"
     ]
    }
   ],
   "source": [
    "response = athena.create_database(database=database, wait=wait)\n",
    "\n",
    "response"
   ]
  },
  {
   "cell_type": "code",
   "execution_count": 40,
   "metadata": {},
   "outputs": [
    {
     "name": "stdout",
     "output_type": "stream",
     "text": [
      "CREATE EXTERNAL TABLE IF NOT EXISTS foodie_fi.plans (\n",
      "  plan_id TINYINT COMMENT 'Unique identifier for the plan',\n",
      "  plan_name VARCHAR(20) COMMENT 'Name of the subscription plan',\n",
      "  price FLOAT COMMENT 'Price of the subscription plan'\n",
      ")\n",
      "COMMENT 'The plans table contains information about the different subscription plans available, including churn events'\n",
      "STORED AS PARQUET\n",
      "LOCATION 's3://sql-case-studies/foodie_fi/plans/'\n",
      "TBLPROPERTIES ('classification'='parquet', 'parquet.compress'='SNAPPY');\n",
      "\n",
      "--------------------------------------------------\n",
      "\n",
      "\n",
      "CREATE EXTERNAL TABLE IF NOT EXISTS foodie_fi.subscriptions (\n",
      "  customer_id SMALLINT COMMENT 'Unique identifier for the customer',\n",
      "  plan_id TINYINT COMMENT 'Unique identifier for the plan associated with the subscription',\n",
      "  start_date TIMESTAMP COMMENT 'Start date of the subscription'\n",
      ")\n",
      "COMMENT 'The subscriptions table stores information about customer subscriptions to various plans'\n",
      "STORED AS PARQUET\n",
      "LOCATION 's3://sql-case-studies/foodie_fi/subscriptions/'\n",
      "TBLPROPERTIES ('classification'='parquet', 'parquet.compress'='SNAPPY');\n",
      "\n",
      "--------------------------------------------------\n",
      "\n",
      "\n"
     ]
    }
   ],
   "source": [
    "ddls = {}\n",
    "for table in tables:\n",
    "    with open(os.path.join(sql_path, f\"{table}_ddl.sql\"), \"r\") as f:\n",
    "        ddls[table] = f.read()\n",
    "\n",
    "    print(ddls[table])\n",
    "    print(\"-\" * 50)\n",
    "    print(\"\\n\")"
   ]
  },
  {
   "cell_type": "code",
   "execution_count": 41,
   "metadata": {},
   "outputs": [
    {
     "name": "stdout",
     "output_type": "stream",
     "text": [
      "Query executed successfully\n",
      "Query executed successfully\n"
     ]
    }
   ],
   "source": [
    "for ddl in ddls.values():\n",
    "    response = athena.create_table(database=database, query=ddl, wait=wait)\n",
    "    response"
   ]
  },
  {
   "cell_type": "code",
   "execution_count": 42,
   "metadata": {},
   "outputs": [
    {
     "data": {
      "text/html": [
       "<div>\n",
       "<style scoped>\n",
       "    .dataframe tbody tr th:only-of-type {\n",
       "        vertical-align: middle;\n",
       "    }\n",
       "\n",
       "    .dataframe tbody tr th {\n",
       "        vertical-align: top;\n",
       "    }\n",
       "\n",
       "    .dataframe thead th {\n",
       "        text-align: right;\n",
       "    }\n",
       "</style>\n",
       "<table border=\"1\" class=\"dataframe\">\n",
       "  <thead>\n",
       "    <tr style=\"text-align: right;\">\n",
       "      <th></th>\n",
       "      <th>plan_id</th>\n",
       "      <th>plan_name</th>\n",
       "      <th>price</th>\n",
       "    </tr>\n",
       "  </thead>\n",
       "  <tbody>\n",
       "    <tr>\n",
       "      <th>0</th>\n",
       "      <td>0</td>\n",
       "      <td>trial</td>\n",
       "      <td>0.0</td>\n",
       "    </tr>\n",
       "    <tr>\n",
       "      <th>1</th>\n",
       "      <td>1</td>\n",
       "      <td>basic monthly</td>\n",
       "      <td>9.9</td>\n",
       "    </tr>\n",
       "    <tr>\n",
       "      <th>2</th>\n",
       "      <td>2</td>\n",
       "      <td>pro monthly</td>\n",
       "      <td>19.9</td>\n",
       "    </tr>\n",
       "    <tr>\n",
       "      <th>3</th>\n",
       "      <td>3</td>\n",
       "      <td>pro annual</td>\n",
       "      <td>199.0</td>\n",
       "    </tr>\n",
       "    <tr>\n",
       "      <th>4</th>\n",
       "      <td>4</td>\n",
       "      <td>churn</td>\n",
       "      <td>NaN</td>\n",
       "    </tr>\n",
       "  </tbody>\n",
       "</table>\n",
       "</div>"
      ],
      "text/plain": [
       "   plan_id      plan_name  price\n",
       "0        0          trial    0.0\n",
       "1        1  basic monthly    9.9\n",
       "2        2    pro monthly   19.9\n",
       "3        3     pro annual  199.0\n",
       "4        4          churn    NaN"
      ]
     },
     "execution_count": 42,
     "metadata": {},
     "output_type": "execute_result"
    },
    {
     "data": {
      "text/html": [
       "<div>\n",
       "<style scoped>\n",
       "    .dataframe tbody tr th:only-of-type {\n",
       "        vertical-align: middle;\n",
       "    }\n",
       "\n",
       "    .dataframe tbody tr th {\n",
       "        vertical-align: top;\n",
       "    }\n",
       "\n",
       "    .dataframe thead th {\n",
       "        text-align: right;\n",
       "    }\n",
       "</style>\n",
       "<table border=\"1\" class=\"dataframe\">\n",
       "  <thead>\n",
       "    <tr style=\"text-align: right;\">\n",
       "      <th></th>\n",
       "      <th>customer_id</th>\n",
       "      <th>plan_id</th>\n",
       "      <th>start_date</th>\n",
       "    </tr>\n",
       "  </thead>\n",
       "  <tbody>\n",
       "    <tr>\n",
       "      <th>0</th>\n",
       "      <td>1</td>\n",
       "      <td>0</td>\n",
       "      <td>2020-08-01</td>\n",
       "    </tr>\n",
       "    <tr>\n",
       "      <th>1</th>\n",
       "      <td>1</td>\n",
       "      <td>1</td>\n",
       "      <td>2020-08-08</td>\n",
       "    </tr>\n",
       "    <tr>\n",
       "      <th>2</th>\n",
       "      <td>2</td>\n",
       "      <td>0</td>\n",
       "      <td>2020-09-20</td>\n",
       "    </tr>\n",
       "    <tr>\n",
       "      <th>3</th>\n",
       "      <td>4</td>\n",
       "      <td>1</td>\n",
       "      <td>2020-01-24</td>\n",
       "    </tr>\n",
       "    <tr>\n",
       "      <th>4</th>\n",
       "      <td>4</td>\n",
       "      <td>4</td>\n",
       "      <td>2020-04-21</td>\n",
       "    </tr>\n",
       "    <tr>\n",
       "      <th>5</th>\n",
       "      <td>5</td>\n",
       "      <td>0</td>\n",
       "      <td>2020-08-03</td>\n",
       "    </tr>\n",
       "    <tr>\n",
       "      <th>6</th>\n",
       "      <td>2</td>\n",
       "      <td>3</td>\n",
       "      <td>2020-09-27</td>\n",
       "    </tr>\n",
       "    <tr>\n",
       "      <th>7</th>\n",
       "      <td>3</td>\n",
       "      <td>0</td>\n",
       "      <td>2020-01-13</td>\n",
       "    </tr>\n",
       "    <tr>\n",
       "      <th>8</th>\n",
       "      <td>3</td>\n",
       "      <td>1</td>\n",
       "      <td>2020-01-20</td>\n",
       "    </tr>\n",
       "    <tr>\n",
       "      <th>9</th>\n",
       "      <td>4</td>\n",
       "      <td>0</td>\n",
       "      <td>2020-01-17</td>\n",
       "    </tr>\n",
       "  </tbody>\n",
       "</table>\n",
       "</div>"
      ],
      "text/plain": [
       "   customer_id  plan_id start_date\n",
       "0            1        0 2020-08-01\n",
       "1            1        1 2020-08-08\n",
       "2            2        0 2020-09-20\n",
       "3            4        1 2020-01-24\n",
       "4            4        4 2020-04-21\n",
       "5            5        0 2020-08-03\n",
       "6            2        3 2020-09-27\n",
       "7            3        0 2020-01-13\n",
       "8            3        1 2020-01-20\n",
       "9            4        0 2020-01-17"
      ]
     },
     "execution_count": 42,
     "metadata": {},
     "output_type": "execute_result"
    }
   ],
   "source": [
    "for table in tables:\n",
    "    athena.query(\n",
    "        database=database,\n",
    "        query=f\"\"\" \n",
    "                SELECT\n",
    "                    *\n",
    "                FROM\n",
    "                    {database}.{table} \n",
    "                LIMIT 10;\n",
    "              \"\"\",\n",
    "        ctas_approach=ctas_approach,\n",
    "    )"
   ]
  },
  {
   "cell_type": "markdown",
   "metadata": {},
   "source": [
    "## Drop Database & Table"
   ]
  },
  {
   "cell_type": "code",
   "execution_count": 3,
   "metadata": {},
   "outputs": [
    {
     "name": "stdout",
     "output_type": "stream",
     "text": [
      "Query executed successfully\n",
      "Query executed successfully\n"
     ]
    }
   ],
   "source": [
    "for table in tables:\n",
    "    athena.drop_table(database=database, table=table, wait=wait)"
   ]
  },
  {
   "cell_type": "code",
   "execution_count": 4,
   "metadata": {},
   "outputs": [
    {
     "name": "stdout",
     "output_type": "stream",
     "text": [
      "Query executed successfully\n"
     ]
    }
   ],
   "source": [
    "athena.drop_database(database=database, wait=wait)"
   ]
  }
 ],
 "metadata": {
  "kernelspec": {
   "display_name": ".venv",
   "language": "python",
   "name": "python3"
  },
  "language_info": {
   "codemirror_mode": {
    "name": "ipython",
    "version": 3
   },
   "file_extension": ".py",
   "mimetype": "text/x-python",
   "name": "python",
   "nbconvert_exporter": "python",
   "pygments_lexer": "ipython3",
   "version": "3.12.6"
  }
 },
 "nbformat": 4,
 "nbformat_minor": 2
}
